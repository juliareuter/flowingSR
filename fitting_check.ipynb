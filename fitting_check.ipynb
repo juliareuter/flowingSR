{
 "cells": [
  {
   "cell_type": "code",
   "execution_count": 3,
   "metadata": {},
   "outputs": [
    {
     "name": "stdout",
     "output_type": "stream",
     "text": [
      "/Users/juliareu/GitCode/TiSR/src/TiSR.jl\n"
     ]
    },
    {
     "name": "stderr",
     "output_type": "stream",
     "text": [
      "┌ Warning: a low prevent_doubles may not detect equal individuals\n",
      "└ @ TiSR /Users/juliareu/GitCode/TiSR/src/options.jl:106\n",
      "┌ Warning: ^ is only valid for positive bases. Otherwise provide a pow(abs(x), y) function with its own drawbacks.\n",
      "└ @ TiSR /Users/juliareu/GitCode/TiSR/src/options.jl:39\n"
     ]
    }
   ],
   "source": [
    "\n",
    "# ==================================================================================================\n",
    "# load TiSR module\n",
    "# ==================================================================================================\n",
    "#using Revise\n",
    "using TiSR\n",
    "using ArgParse\n",
    "using DataFrames\n",
    "using CSV\n",
    "import DynamicQuantities: uparse,  @u_str\n",
    "using Statistics\n",
    "println(pathof(TiSR))\n",
    "\n",
    "\n",
    "# ==================================================================================================\n",
    "# read arguments from the command line \n",
    "# ==================================================================================================\n",
    "function parse_commandline()\n",
    "    s = ArgParseSettings()\n",
    "    @add_arg_table s begin\n",
    "        \"dataset\"\n",
    "            arg_type = Int\n",
    "            help = \"options are: 1,2,3,4,5,6,7,8,9\" #1: Hubble, 2: Kepler, 3: Newton, 4: Planck, 5: Leavitt, 6: Schechter, 7: Bode, 8: Ideal gas, 9: Rydberg\n",
    "        \"dataset_type\"\n",
    "            arg_type = String\n",
    "            help = \"options are: original, wo_noise\"\n",
    "        \"obj\"\n",
    "            arg_type = String\n",
    "            help = \"options are: f1f2f4, f1f2f3, f1f3f4\"\n",
    "        \"algo\"\n",
    "            help = \"options are: correct_all, correct_mut, obj_penalty, death_penalty, baseline\"\n",
    "            arg_type = String   \n",
    "        \"run\"\n",
    "            arg_type = Int\n",
    "    end\n",
    "\n",
    "    return parse_args(s)\n",
    "end\n",
    "\n",
    "parsed_args = parse_commandline()\n",
    "#Instead of parsing the arguments, I just define them hardcoded here for Planck test case\n",
    "algo = \"death_penalty\"\n",
    "dataset = 4\n",
    "dataset_type = \"wo_noise\"\n",
    "obj = \"f1f2f4\"\n",
    "run = 1\n",
    "\n",
    "has_original_measures = [1,2,5,7] #original datasets available\n",
    "\n",
    "if dataset_type == \"original\"\n",
    "    if dataset in has_original_measures\n",
    "        dataset_appendix = \"_original\"\n",
    "    else\n",
    "        dataset_appendix = \"_generated_noise\"\n",
    "    end\n",
    "elseif dataset_type == \"wo_noise\"\n",
    "    dataset_appendix = \"_generated_wo_noise\"\n",
    "end\n",
    "dataset_prefix = \"./data/empiricalBench\"\n",
    "arbitrary_name = \"$(dataset)_$(dataset_appendix)_$(obj)_$(algo)_(run)\"\n",
    "#input units, target unit, dimensionless\n",
    "if dataset == 1 #Hubble, stays as is\n",
    "    data_matrix = Matrix(CSV.read(\"$dataset_prefix/hubble$dataset_appendix.csv\", DataFrame))\n",
    "    units = [u\"m\",  u\"km * s^-1\", u\"0\"] #use m instead of Mpc\n",
    "elseif dataset == 2 #Kepler, stays as is\n",
    "    data_matrix = Matrix(CSV.read(\"$dataset_prefix/kepler$dataset_appendix.csv\", DataFrame))\n",
    "    units = [u\"m\", u\"day\", u\"0\"] #use m instead of AU \n",
    "elseif dataset == 3 #Newton\n",
    "    data_matrix = Matrix(CSV.read(\"$dataset_prefix/newton$dataset_appendix.csv\", DataFrame))\n",
    "    units = [u\"m\", u\"kg\", u\"kg\", u\"N\", u\"0\"]\n",
    "elseif dataset == 4 #Planck, first try to remove scaling using exp(y), might change to log only later\n",
    "    data_matrix = Matrix(CSV.read(\"$dataset_prefix/planck$(dataset_appendix)_scaled.csv\", DataFrame))\n",
    "    #data_matrix[:, end] .= log.(data_matrix[:, end])\n",
    "    units = [u\"Hz\", u\"K\", u\"W * m^(-2) * Hz^(-1)\", u\"0\"]\n",
    "elseif dataset == 5 #Leavitt, provide with log10 instead of log\n",
    "    data_matrix = Matrix(CSV.read(\"$dataset_prefix/leavitt$dataset_appendix.csv\", DataFrame))\n",
    "    units = [u\"0\", u\"0\", u\"0\"]\n",
    "elseif dataset == 6 #Schechter, uses log scale and log(x1), therefore unit of x1 is set to dimensionless\n",
    "    data_matrix = Matrix(CSV.read(\"$dataset_prefix/schechter$dataset_appendix.csv\", DataFrame))\n",
    "    units = [u\"0\", u\"0\", u\"0\"]\n",
    "elseif dataset == 7 #Bode, dataset not log scaled, therefore stays as is\n",
    "    data_matrix = Matrix(CSV.read(\"$dataset_prefix/bode_original.csv\", DataFrame))\n",
    "    units = [u\"0\", u\"0\", u\"0\"]\n",
    "elseif dataset == 8 #Ideal gas, remove log scaling using exp(y)\n",
    "    data_matrix = Matrix(CSV.read(\"$dataset_prefix/ideal_gas$dataset_appendix.csv\", DataFrame))\n",
    "    data_matrix[:, end] .= exp.(data_matrix[:, end])\n",
    "    units = [u\"mol\", u\"K\", u\"m^3\", u\"Pa\", u\"0\"]\n",
    "elseif dataset == 9 #Rydberg, uses log scale but input features are dimensionless, therefore stays as is\n",
    "    data_matrix = Matrix(CSV.read(\"$dataset_prefix/rydberg$dataset_appendix.csv\", DataFrame))\n",
    "    units = [u\"0\", u\"0\", u\"0\", u\"0\"]\n",
    "end\n",
    "\n",
    "if algo == \"correct_all\"\n",
    "    always_correct_dims = true\n",
    "    p_correct_dims = 0.0\n",
    "    death_penalty_dims = false\n",
    "elseif algo == \"correct_mut\"\n",
    "    always_correct_dims = false\n",
    "    p_correct_dims = 4.0\n",
    "    death_penalty_dims = true\n",
    "elseif algo == \"obj_penalty\"\n",
    "    always_correct_dims = false\n",
    "    p_correct_dims = 0.0\n",
    "    death_penalty_dims = false\n",
    "elseif algo == \"death_penalty\"\n",
    "    always_correct_dims = false\n",
    "    p_correct_dims = 0.0\n",
    "    death_penalty_dims = true\n",
    "elseif algo == \"baseline\"\n",
    "    always_correct_dims = false\n",
    "    p_correct_dims = 0.0\n",
    "    death_penalty_dims = false\n",
    "end\n",
    "\n",
    "if obj == \"f1f2f3\"\n",
    "    hall_of_fame_objectives = [:ms_processed_e, :dim_penalty, :compl]\n",
    "    selection_objectives = [:ms_processed_e, :minus_spearman, :dim_penalty]\n",
    "elseif obj == \"f1f2f4\"\n",
    "    hall_of_fame_objectives = [:ms_processed_e, :compl]\n",
    "    selection_objectives = [:ms_processed_e, :minus_spearman, :compl]\n",
    "elseif obj == \"f1f3f4\"\n",
    "    hall_of_fame_objectives = [:ms_processed_e, :dim_penalty, :compl]\n",
    "    selection_objectives = [:ms_processed_e, :dim_penalty, :compl]\n",
    "end\n",
    "\n",
    "# ==================================================================================================\n",
    "# preparation\n",
    "# ==================================================================================================\n",
    "parts = [0.8, 0.2]\n",
    "\n",
    "# ==================================================================================================\n",
    "# options -> specify some custom settings, where the default setting is unsatisfactory\n",
    "# ==================================================================================================\n",
    "pow_abs(v1, v2) = abs(v1)^v2\n",
    "sqrt_abs(v1) = sqrt(abs(v1))\n",
    "pow2(v1) = v1^2\n",
    "pow3(v1) = v1^3\n",
    "\n",
    "ops, data = Options(\n",
    "    data_descript=data_descript(\n",
    "        data_matrix;\n",
    "        arbitrary_name = arbitrary_name,\n",
    "        parts          = parts,\n",
    "       #fit_weights    = fit_weights, \n",
    "        units          = [u\"m\", u\"0\", u\"0\"],\n",
    "    ),\n",
    "    general=general_params(\n",
    "        n_gens          = typemax(Int64),\n",
    "        pop_size        = 500,\n",
    "        max_compl       = 30,\n",
    "        pow_abs_param   = true,\n",
    "        prevent_doubles = 1e-50,\n",
    "        t_lim           = 60 * 60.0, #make this 1 hour\n",
    "        multithreadding = true,\n",
    "        always_correct_dims = always_correct_dims,\n",
    "        death_penalty_dims  = death_penalty_dims,\n",
    "    ),\n",
    "    selection=selection_params(\n",
    "        hall_of_fame_objectives           = hall_of_fame_objectives,          # -> objectives for the hall_of_fame\n",
    "        selection_objectives              = selection_objectives              # -> objectives for the Pareto-optimal selection part of selection\n",
    "    ),\n",
    "    fitting=fitting_params(\n",
    "        early_stop_iter = 5,\n",
    "        max_iter        = 30,\n",
    "        lasso_factor    = 1e-7),\n",
    "    binops         = (  +,   -,   *,   /,  ^),  # -> binary function set to choose from\n",
    "    p_binops       = (1.0, 1.0, 1.0, 1.0, 0.0),  # -> probabilites for selection of each binary functions (same length as provided binops) (dont need to add up to 1, adjusted accordingly)\n",
    "    unaops         = (exp, log, sin, cos, abs, sqrt_abs, pow2, pow3),  # -> unary function set to choose from\n",
    "    p_unaops       = (1.0, 1.0, 0.0, 0.0, 0.0, 1.0, 1.0, 1.0),  # -> probability for each unary function\n",
    "    illegal_dict = Dict(:sin => (sin, cos),\n",
    "                    :cos => (sin, cos),\n",
    "                    :abs => (abs,),\n",
    "                    :exp => (exp, log, sqrt_abs),\n",
    "                    :log => (exp, log),\n",
    "                    :pow2 => (log, sqrt_abs),\n",
    "                    :sqrt_abs => (pow2,),),\n",
    "\n",
    "    mutation=mutation_params(;\n",
    "        p_crossover        = 4.0,\n",
    "        p_point            = 0.5,\n",
    "        p_innergrow        = 0.0,\n",
    "        p_insert           = 0.2,\n",
    "        p_hoist            = 0.2,\n",
    "        p_subtree          = 0.2,\n",
    "        p_add_term         = 0.1,\n",
    "        p_simplify         = 0.5,\n",
    "        p_drastic_simplify = 0.5,\n",
    "        p_correct_dims     = p_correct_dims,),\n",
    "    \n",
    "    \n",
    ");\n",
    "\n"
   ]
  },
  {
   "cell_type": "code",
   "execution_count": 3,
   "metadata": {},
   "outputs": [
    {
     "ename": "BoundsError",
     "evalue": "BoundsError: attempt to access 8×2 Matrix{Float64} at index [1:8, 3]",
     "output_type": "error",
     "traceback": [
      "BoundsError: attempt to access 8×2 Matrix{Float64} at index [1:8, 3]\n",
      "\n",
      "Stacktrace:\n",
      "  [1] throw_boundserror(A::Matrix{Float64}, I::Tuple{Base.Slice{Base.OneTo{Int64}}, Int64})\n",
      "    @ Base ./abstractarray.jl:744\n",
      "  [2] checkbounds\n",
      "    @ ./abstractarray.jl:709 [inlined]\n",
      "  [3] _getindex\n",
      "    @ ./multidimensional.jl:860 [inlined]\n",
      "  [4] getindex(::Matrix{Float64}, ::Function, ::Int64)\n",
      "    @ Base ./abstractarray.jl:1296\n",
      "  [5] (::var\"#13#14\")(p::Vector{ForwardDiff.Dual{ForwardDiff.Tag{var\"#13#14\", Float64}, Float64, 3}})\n",
      "    @ Main ~/GitCode/flowingSR/Planck_fitting.ipynb:14\n",
      "  [6] vector_mode_dual_eval!\n",
      "    @ ~/.julia/packages/ForwardDiff/PcZ48/src/apiutils.jl:24 [inlined]\n",
      "  [7] vector_mode_gradient!(result::DiffResults.MutableDiffResult{1, Float64, Tuple{Vector{Float64}}}, f::var\"#13#14\", x::Vector{Float64}, cfg::ForwardDiff.GradientConfig{ForwardDiff.Tag{var\"#13#14\", Float64}, Float64, 3, Vector{ForwardDiff.Dual{ForwardDiff.Tag{var\"#13#14\", Float64}, Float64, 3}}})\n",
      "    @ ForwardDiff ~/.julia/packages/ForwardDiff/PcZ48/src/gradient.jl:96\n",
      "  [8] gradient!\n",
      "    @ ~/.julia/packages/ForwardDiff/PcZ48/src/gradient.jl:37 [inlined]\n",
      "  [9] gradient!\n",
      "    @ ~/.julia/packages/ForwardDiff/PcZ48/src/gradient.jl:35 [inlined]\n",
      " [10] (::NLSolversBase.var\"#14#18\"{Float64, var\"#13#14\", ForwardDiff.GradientConfig{ForwardDiff.Tag{var\"#13#14\", Float64}, Float64, 3, Vector{ForwardDiff.Dual{ForwardDiff.Tag{var\"#13#14\", Float64}, Float64, 3}}}})(out::Vector{Float64}, x::Vector{Float64})\n",
      "    @ NLSolversBase ~/.julia/packages/NLSolversBase/kavn7/src/objective_types/oncedifferentiable.jl:70\n",
      " [11] value_gradient!!(obj::OnceDifferentiable{Float64, Vector{Float64}, Vector{Float64}}, x::Vector{Float64})\n",
      "    @ NLSolversBase ~/.julia/packages/NLSolversBase/kavn7/src/interface.jl:82\n",
      " [12] initial_state(method::LBFGS{Nothing, InitialStatic{Float64}, BackTracking{Float64, Int64}, Optim.var\"#20#22\"}, options::Optim.Options{Float64, Nothing}, d::OnceDifferentiable{Float64, Vector{Float64}, Vector{Float64}}, initial_x::Vector{Float64})\n",
      "    @ Optim ~/.julia/packages/Optim/V8ZEC/src/multivariate/solvers/first_order/l_bfgs.jl:164\n",
      " [13] optimize\n",
      "    @ ~/.julia/packages/Optim/V8ZEC/src/multivariate/optimize/optimize.jl:36 [inlined]\n",
      " [14] #optimize#89\n",
      "    @ ~/.julia/packages/Optim/V8ZEC/src/multivariate/optimize/interface.jl:143 [inlined]\n",
      " [15] top-level scope\n",
      "    @ ~/GitCode/flowingSR/Planck_fitting.ipynb:27"
     ]
    }
   ],
   "source": [
    "# copy_data_matrix = log.(data_matrix)\n",
    "copy_data_matrix = data_matrix\n",
    "\n",
    "v1 = copy_data_matrix[:, 1]\n",
    "v2 = copy_data_matrix[:, 2]\n",
    "\n",
    "# func = p -> @. log(abs(p[1] * pow3(v1)/(exp(p[2]*v1/v2) - 1.0)))\n",
    "# func = p -> @. p[1] + 3 * log(v1) - log(exp(p[2] * v1/v2) - 1)\n",
    "# func = p -> @. p[1] * pow3(v1) * (1/(exp(p[2] * v1 / (v2))-p[3]))\n",
    "\n",
    "func = p -> @. (pow2((p[1]*v1))*(v2-(v1*(p[3]-exp(((p[2]*v1)/v2))))))\n",
    "\n",
    "\n",
    "minim = p -> mean(abs2, func(p) .- copy_data_matrix[:, 3])\n",
    "\n",
    "using Optim\n",
    "using LineSearches\n",
    "\n",
    "#True parameter values are: 1.4744994402842404e-50, 4.79924466221135e-11\n",
    "\n",
    "p0 = [\n",
    "    0.000175\n",
    "    1.92e-12\n",
    "    1.0\n",
    "]\n",
    "\n",
    "res = Optim.optimize(\n",
    "    minim,\n",
    "    p0,\n",
    "    Optim.LBFGS(;linesearch=LineSearches.BackTracking()),\n",
    "    Optim.Options(),\n",
    "    autodiff=:forward,\n",
    ")\n",
    "\n",
    "\n",
    "p_best = Optim.minimizer(res)\n",
    "Optim.minimum(res)"
   ]
  },
  {
   "cell_type": "code",
   "execution_count": 4,
   "metadata": {},
   "outputs": [
    {
     "data": {
      "text/plain": [
       "4.79924466221135e-6"
      ]
     },
     "metadata": {},
     "output_type": "display_data"
    }
   ],
   "source": [
    "6.62607004e-9/1.38064852e-3"
   ]
  },
  {
   "cell_type": "code",
   "execution_count": 5,
   "metadata": {},
   "outputs": [
    {
     "name": "stdout",
     "output_type": "stream",
     "text": [
      "((-115.0+(3.0*log(v1)))-log((exp(((4.8e-11*v1)/v2))-1.0)))\n"
     ]
    },
    {
     "name": "stdout",
     "output_type": "stream",
     "text": [
      "Residuals  : [1123.7791109163968, 136.57132313532736, 89.68909683045675, 595.7978427440013, 89.53063798372945, 97.38265064260035, 93.78251375243737, 90.7673706190088, 92.03681523412077, 91.71075677890039, 89.76652056715695, 108.2740310288816, 117.76357886626113, 214.019343706269, 89.34314321983467, 91.84935698085101, 89.6402892424658, 90.06848770277966, 83.58195710153674, 95.14911167904741, 88.56398734344525, 116.38735175608414, 89.64679203221866, 95.02265715415945, 87.08111462925073, 89.343222330244, 90.03925635760334, 123.67441546960758, 89.65140405976622, 90.05283697678317, 85.81346805375485, 92.46425555605119, 96.35027439105494, 91.02779853398108, 467.16701502794103, 91.7436505581647, 90.06216989836314, 90.0228923466205, 91.80252728066759, 106.92738820465496, 133.2452294016874, 85.48573147338577, 89.3756144202173, 108.35728069111829, 89.63814405483656, 120.70407960521882, 90.85980484911902, 96.57443297361205, 92.23053760926715, 83.49456292557836, 220.53180607130605, 90.88122231364207, 1468.820479143267, 90.05010595196893, 94.02982097100836, 205.72535394255493, 92.77440087733886, 91.98215762504915, 88.19208306850712, 89.5597161637435, 86.81340091447191, 598.7442667765091, 90.93025781956469, 90.06725885956259, 89.31395676020601, 120.71788349009827, 87.39661039538633, 87.79996255531564, 89.55579700602462, 494.6768656358136, 97.54697819428435, 260.0842258330598, 120.23329267319251, 91.02349483127675, 85.50159702465726, 96.84948780435235, 91.87004923773007, 91.15038761080056, 124.49551092394422, 89.82315413350669, 83.6621375085729, 92.1101163475558, 289.64724032405684, 90.72294580013768, 146.9749256207307, 90.83521590966961, 126.52237654259997, 90.9692241830855, 90.45089505567799, 90.03985976648555, 104.88101932635776, 265.8041011208489, 523.158879322853, 244.44620904405488, 317.0419050146757, 89.85077396581121, 89.94674899105122, 90.75706444255277, 83.61847754569598, 488.22376671742154]\n",
      "Valid?     : true\n",
      "MSE        : 64140.85608097037\n"
     ]
    }
   ],
   "source": [
    "# Planck\n",
    "#Die richtige Gleichung mit falschen Startwerten der Parameter\n",
    "#True parameter values are: 1.4744994402842404e-50, 4.79924466221135e-11\n",
    "eq1 = string_to_node(\"(1.4744994402842404e-50 * pow3(v1)/(exp(4.79924466221135e-11*v1/v2)-1))\", ops)\n",
    "eq2 = string_to_node(\"(1.47449944028424e-12 * pow3(v1) * (1/(exp(4.79924466221135e-6 * v1 / (v2))-1)))\", ops)\n",
    "\n",
    "#Eine Gleichung, die der Algorithmus nach einer Stunde Laufzeit gefunden hat, stimmt fast, bis auf -1 im Nenner fehlt\n",
    "eq3 = string_to_node(\"(pow3((3.08811211513492e-17*v1))/exp((6.12814427966739e-11/(v2/v1))))\", ops)\n",
    "eq4 = string_to_node(\"(pow2((0.000175*v1))*(v2-(v1*(1.0-exp(((1.92e-12*v1)/v2))))))\", ops)\n",
    "\n",
    "\n",
    "#Die logarithmierte Gleichung\n",
    "eq5 = string_to_node(\"-114.74093608002615 + 3.0*log(v1) - log(exp(4.79924466221135e-11*v1/v2) - 1.0)\", ops)\n",
    "\n",
    "eq = eq5\n",
    "list_of_param = list_of_param_nodes(eq)\n",
    "print(eq)\n",
    "res = residual_after_fitting(eq, data, ops, list_of_param)\n",
    "println(\"Residuals  : \",res[1])\n",
    "println(\"Valid?     : \",res[2])\n",
    "\n",
    "println(\"MSE        : \", mean(abs2, res[1]))"
   ]
  },
  {
   "cell_type": "code",
   "execution_count": 43,
   "metadata": {},
   "outputs": [
    {
     "name": "stdout",
     "output_type": "stream",
     "text": [
      "Residuals  : [-0.3110714198495863, -0.16577829614656459, -0.13852902764259412, 0.21726091131572112, -0.03861267776633781, -0.1110228022275912, -0.22284253102017892, 0.19908956036633008, 0.25576829194890394, 0.02144893504729417, 0.09771216475480493, 0.22895541303074118, 0.13643602249329234, -0.2335456834409655, 0.1107662485208234, 0.11082605185035632, 0.10458646565762564, -0.03234935237720293, -0.08316838430691043, 0.34584484202505195, 0.01572668453429138, 0.06000983702450924, -0.18122628148501008, -0.3645718539895899, -0.4604733652117048, -0.004319287830085727]\n",
      "Valid?     : true\n",
      "MSE        : 0.0399799046506052\n"
     ]
    }
   ],
   "source": [
    "# Leavitt\n",
    "eq = string_to_node(\"16.084 - log(v1 + 1.65)\", ops)\n",
    "eq2 = string_to_node(\"(373.0/(24.0+sqrt_abs(v1)))\", ops)\n",
    "\n",
    "#(16.115046924756033 - log(x0 + 1.624759616856815))\n",
    "eq3 = string_to_node(\"log((9.25484803213189e6/(1.324347637779+v1)))\", ops)\n",
    "eq4 = string_to_node(\"(16.023109856068-log((1.14627398447791+v1)))\", ops)\n",
    "eq5 = string_to_node(\"log((8.86528648616603e6/(1.04597046671338+v1)))\", ops)\n",
    "list_of_param = list_of_param_nodes(eq4)\n",
    "res = residual_after_fitting(eq4, data, ops, list_of_param)\n",
    "println(\"Residuals  : \",res[1])\n",
    "println(\"Valid?     : \",res[2])\n",
    "\n",
    "println(\"MSE        : \", mean(abs2, res[1]))"
   ]
  },
  {
   "cell_type": "code",
   "execution_count": null,
   "metadata": {},
   "outputs": [],
   "source": [
    "# bode_original\n",
    "eq = string_to_node(\"log(1.0 + v1)\", ops)"
   ]
  },
  {
   "cell_type": "code",
   "execution_count": 17,
   "metadata": {},
   "outputs": [
    {
     "name": "stdout",
     "output_type": "stream",
     "text": [
      "(-9.131774400000002e-8(v1^2)*(v2^2)) / (v1^2 - (v2^2))"
     ]
    }
   ],
   "source": [
    "using SymbolicUtils\n",
    "eq = string_to_node(\"(-0.00119*(pow2((-0.00876*v1))/(-1.0+pow2((v1/v2)))))\", ops)\n",
    "eq = node_to_symbolic(eq, ops)\n",
    "eq = SymbolicUtils.simplify(eq)\n",
    "print(eq)"
   ]
  },
  {
   "cell_type": "code",
   "execution_count": 18,
   "metadata": {},
   "outputs": [
    {
     "name": "stdout",
     "output_type": "stream",
     "text": [
      "(((-9.13e-8*(v1^2.0))*(v2^2.0))/((v1^2.0)+(-1.0*(v2^2.0))))\n"
     ]
    }
   ],
   "source": [
    "eq = string_to_node(\"(-0.00119*(pow2((-0.00876*v1))/(-1.0+pow2((v1/v2)))))\", ops)\n",
    "simplify_w_symbolic_utils!(eq, ops)\n",
    "print(eq)"
   ]
  },
  {
   "cell_type": "code",
   "execution_count": 12,
   "metadata": {},
   "outputs": [
    {
     "data": {
      "text/latex": [
       "$$ \\begin{equation}\n",
       "\\frac{e^{\\frac{3 \\left(  - 1.57 \\cdot 10^{-11} v1 + v2 \\log\\left( 6.24 \\cdot 10^{-15} v1 \\right) + \\log\\left( 6.24 \\cdot 10^{-15} v1 \\right) \\right)}{1 + v2}}}{\\sqrt{\\left|v1\\right|}}\n",
       "\\end{equation}\n",
       " $$"
      ],
      "text/plain": [
       "exp((3(v2*log(6.24e-15v1) + log(6.24e-15v1) - 1.57e-11v1)) / (1.0 + v2)) / sqrt(abs(v1))"
      ]
     },
     "metadata": {},
     "output_type": "display_data"
    }
   ],
   "source": [
    "using Symbolics\n",
    "using SymbolicUtils\n",
    "@variables v1 v2 v3 v4 v5\n",
    "pow_abs(v1, v2) = abs(v1)^v2\n",
    "sqrt_abs(v1) = sqrt(abs(v1))\n",
    "pow2(v1) = v1^2\n",
    "pow3(v1) = v1^3\n",
    "\n",
    "function simplify_equation(eq)\n",
    "    #eq = replace(eq, \"--\" => \"+\")\n",
    "    eq_simp = eval(Meta.parse(eq))\n",
    "    eq_simp = PolyForm(eq_simp, recurse = true)\n",
    "    simplify(eq_simp)\n",
    "    #eq_simp = PolyForm(eq_simp, recurse = true)\n",
    "\n",
    "    #repr(eq_simp)\n",
    "end   \n",
    "\n",
    "\n",
    "\n",
    "eq = \" (exp((-1.57e-11v1) / (1.0 + v2) + log(6.24e-15v1))^3) / sqrt(abs(v1)) \"\n",
    "@variables v1 v2 v3 v4 v5\n",
    "#Q1 = eval(Meta.parse(eq))\n",
    "simplify_equation(eq)\n"
   ]
  },
  {
   "cell_type": "code",
   "execution_count": 25,
   "metadata": {},
   "outputs": [
    {
     "ename": "MethodError",
     "evalue": "MethodError: no method matching parse(::Type{Sym}, ::String)\n\nClosest candidates are:\n  parse(!Matched::Type{P}, ::AbstractString; kwargs...) where P<:FilePathsBase.AbstractPath\n   @ FilePathsBase ~/.julia/packages/FilePathsBase/4RrDh/src/path.jl:77\n  parse(!Matched::Type{Sockets.IPAddr}, ::AbstractString)\n   @ Sockets /opt/homebrew/Cellar/julia/1.9.3/share/julia/stdlib/v1.9/Sockets/src/IPAddr.jl:246\n  parse(!Matched::Type{T}, ::AbstractString) where T<:Complex\n   @ Base parse.jl:386\n  ...\n",
     "output_type": "error",
     "traceback": [
      "MethodError: no method matching parse(::Type{Sym}, ::String)\n",
      "\n",
      "Closest candidates are:\n",
      "  parse(!Matched::Type{P}, ::AbstractString; kwargs...) where P<:FilePathsBase.AbstractPath\n",
      "   @ FilePathsBase ~/.julia/packages/FilePathsBase/4RrDh/src/path.jl:77\n",
      "  parse(!Matched::Type{Sockets.IPAddr}, ::AbstractString)\n",
      "   @ Sockets /opt/homebrew/Cellar/julia/1.9.3/share/julia/stdlib/v1.9/Sockets/src/IPAddr.jl:246\n",
      "  parse(!Matched::Type{T}, ::AbstractString) where T<:Complex\n",
      "   @ Base parse.jl:386\n",
      "  ...\n",
      "\n",
      "\n",
      "Stacktrace:\n",
      " [1] top-level scope\n",
      "   @ ~/GitCode/flowingSR/Planck_fitting.ipynb:5"
     ]
    }
   ],
   "source": [
    "import SymPy\n",
    "\n",
    "@SymPy.syms v1::Positive v2::Positive v3::Positive v4::Positive v5::Positive\n",
    "eq = \" (exp((-1.57e-11v1) / (1.0 + v2) + log(6.24e-15v1))^3) / sqrt(abs(v1)) \"\n",
    "eq = SymPy.parse(Sym, eq)\n",
    "eq1 = SymPy.simplify(eq)\n",
    "pretty_expr = SymPy.pretty(eq1)\n",
    "\n",
    "println(pretty_expr)"
   ]
  },
  {
   "cell_type": "code",
   "execution_count": 1,
   "metadata": {},
   "outputs": [
    {
     "data": {
      "text/plain": [
       "-73.03691702272278"
      ]
     },
     "metadata": {},
     "output_type": "display_data"
    }
   ],
   "source": [
    "log(1.90752378459450e-32)"
   ]
  },
  {
   "cell_type": "code",
   "execution_count": 18,
   "metadata": {},
   "outputs": [
    {
     "name": "stdout",
     "output_type": "stream",
     "text": [
      "[8.639100743085532, 8.435773319398226, 7.387577239368664, 7.828858141115962, 7.100571656644625, 7.566810406168052, 7.656609035548126, 8.491539962314048, 5.994987560033631, 7.897075969933256, 7.3469249838980115, 5.455899645673138, 5.93477448543663, 6.449918203956688, 5.021352702157164, 9.827155255389421, 8.295750548552828, 5.482726233673562, 6.60605207862843, 7.417140072002406, 6.71308707641556, 6.946315848753331, 9.268353631865184, 8.62383953943768, 7.0275393032166855, 5.1289320022521725, 9.903909504031809, 7.907318372017803, 9.122549715645501, 5.114747346590121, 9.401582128153942, 5.833715618300463, 7.8342719084156585, 8.641561098026251, 9.401432783663976, 8.507111560671571, 7.960355378781964, 5.226129176826111, 7.630580449442256, 6.631064996025454, 7.707059415927103, 7.974753171314172, 8.089284376035124, 8.89761560207787, 9.996948691375101, 5.984784760550996, 5.232083964911804, 6.407905114094209, 5.1295027613499595, 5.168976780391028]\n",
      "[0.5679095062860513, 0.6912906058116438, 0.1367176763984052, 0.12059103619789782, 0.6546182061007092, 0.5884826882150767, 0.2787617787111172, 0.46378532454073107, 0.25858932554047576, 0.653852519043125, 0.36461990273158407, 0.6824348799615777, 0.35053854127271, 0.2730862029737896, 0.2958410832102635, 0.3382827411767988, 0.6108742628118872, 0.38201438882098593, 0.5632383315463195, 0.5520612941132074, 0.40460038374352436, 0.685343660174171, 0.5039539767154403, 0.4978158107993892, 0.394382444841742, 0.2735650665530123, 0.6517339998764348, 0.3472081253244971, 0.191181229845817, 0.38870510490908916, 0.6564646328569851, 0.5262911855353187, 0.3335702064128413, 0.5172988521877331, 0.12360810403597516, 0.6713965731170818, 0.13107655196676032, 0.33547122585845857, 0.5276634668881236, 0.19626808614254254, 0.42370682340921306, 0.313078692276096, 0.6555824937106746, 0.5382970979390223, 0.5490010030174365, 0.4435796441780301, 0.5228690442280426, 0.3223902124971447, 0.4388586367255195, 0.13906645567354636]\n",
      "[3.073109160694444, 0.7677459732841583, 1.8176000852366156, 2.0422985917904453, 0.655855678791521, 2.213328003300736, 1.3793071921942928, 3.1652394946862366, 1.780867630968349, 2.3517403990020007, 3.5242288416202716, 1.9618457764481505, 3.623077189813786, 2.5624729091194745, 1.4201976534317744, 2.340815911975249, 2.4426810207386835, 3.791141187532695, 3.1501777374393933, 3.5383338155624684, 3.3383821652440506, 0.5365039947436525, 3.156919729532471, 0.6743771619293554, 1.0064293801253295, 1.9906777070331831, 3.745985638468003, 2.3683268448554227, 3.470334841235187, 3.6878864405167047, 1.5562775658036518, 2.3656754110292972, 0.7097038897433479, 3.995590731159232, 2.5694212905393887, 1.2440198176657797, 2.591727525446577, 1.7312551402030318, 1.5789867561619806, 2.5963935831607756, 2.242187282976014, 2.055068714097393, 2.3853521741101313, 2.5544231960796817, 2.8142882875730555, 1.511477071230096, 1.3292306590358745, 3.6692412844892255, 0.7454311903107429, 0.6709032094316345]\n"
     ]
    },
    {
     "name": "stderr",
     "output_type": "stream",
     "text": [
      "WARNING: using Distributions.scale in module Main conflicts with an existing identifier.\n"
     ]
    },
    {
     "name": "stdout",
     "output_type": "stream",
     "text": [
      "[42.83945875149891, 37.766663977069584, 77.95256870666596, 89.68925198778459, 35.04996709223559, 37.534046330079335, 51.455647772214284, 45.966673822249206, 44.974460864648165, 37.40352419313041, 47.18612451703867, 29.047315422640807, 42.069812864828606, 47.29182383477866, 36.752906367875646, 56.54422074762429, 39.55426860269567, 39.1111716431156, 36.84194074771363, 40.60068035744369, 42.29090483107191, 34.66975793929434, 46.90563863490209, 43.40112002272403, 41.10985147900459, 39.21966442990718, 45.7568623106045, 48.14061192762043, 76.79027483101773, 36.96840691039222, 40.43268703595754, 33.40536782343995, 48.48261751046793, 46.528282031867356, 103.51240358854284, 37.71533036794482, 86.56226047944892, 35.94971731413395, 38.49894611954305, 57.799085435301286, 43.094023764190226, 50.442562301961445, 37.96208637467929, 43.404700341800755, 46.752892683429685, 35.06239828383823, 30.182661709025563, 45.89475599038577, 32.339968344709774, 58.1409445601387]\n"
     ]
    },
    {
     "name": "stdout",
     "output_type": "stream",
     "text": [
      "[29.8812120589667, 20.720636190147907, 56.601140715838966, 66.15344131707741, 18.884785171081685, 24.919439497782673, 34.195335448589894, 32.600121458638, 31.184889183322184, 24.84706199574328, 34.787058444468656, 19.287908931126996, 31.889729713455438, 34.12421558967427, 24.648945290835222, 39.04734098624683, 26.477057701407656, 30.132289083422954, 26.534517844956383, 29.489615842670325, 31.073981916306238, 18.032935161822667, 32.90189343482128, 24.68599817509056, 25.23031992719135, 27.79181935870347, 32.43548757223551, 33.45896546847175, 57.31701836474291, 28.635111726307553, 24.79397567049592, 23.186862938552835, 29.4007336351745, 34.0426933363112, 77.22802615395952, 22.304482757820526, 64.53604669034873, 24.543774683794354, 24.344459173990305, 42.44659038422836, 29.327735058542633, 34.688343727774004, 25.231707992323635, 29.39279553087711, 31.89905329677596, 22.647796212927883, 18.946766040022723, 34.625386403060276, 18.767889954111112, 39.020044064347765]\n"
     ]
    },
    {
     "data": {
      "text/plain": [
       "\"./data/synthetic/synthetic_freeConst_wo_noise.csv\""
      ]
     },
     "metadata": {},
     "output_type": "display_data"
    }
   ],
   "source": [
    "using Distributions\n",
    "using DataFrames    \n",
    "using CSV\n",
    "#f(v1, v2, v3) .= v1./v2 .+ 0.35 .*v3 .+ 10.0 .*log((v1 .^2) ./v3)\n",
    "\n",
    "v1 = [rand(Uniform(5.0, 10.0)) for i in 1:50]\n",
    "println(v1)\n",
    "v2 = [rand(Uniform(0.1, 0.7)) for i in 1:50]\n",
    "println(v2)\n",
    "v3 = [rand(Uniform(0.5, 4.0)) for i in 1:50]\n",
    "println(v3)\n",
    "\n",
    "result1 = rand(Uniform(0.0, 1.0), 50)\n",
    "result1 .= v1./v2 .+ 3.8 .*v3 .+ 5.0 .* log.((v1 .^2) ./v3)\n",
    "println(result1)\n",
    "\n",
    "result2 = rand(Uniform(0.0, 1.0), 50)\n",
    "result2 .= 0.8 .* v1./v2 .+ 3.5 .*v3 .+ log.(5.0 .* (v1 .^3) ./v3)\n",
    "println(result2)\n",
    "\n",
    "df1 = DataFrame(v1 = v1, v2 = v2, v3 = v3, y = result1)\n",
    "df2 = DataFrame(v1 = v1, v2 = v2, v3 = v3, y = result2)\n",
    "CSV.write(\"./data/synthetic/synthetic_constructDimless_wo_noise.csv\", df1)\n",
    "CSV.write(\"./data/synthetic/synthetic_freeConst_wo_noise.csv\", df2)"
   ]
  },
  {
   "cell_type": "code",
   "execution_count": 24,
   "metadata": {},
   "outputs": [
    {
     "data": {
      "text/plain": [
       "\"./data/synthetic/synthetic_freeConst_generated_wo_noise.csv\""
      ]
     },
     "metadata": {},
     "output_type": "display_data"
    }
   ],
   "source": [
    "\n",
    "df1 = DataFrame(v1 = v1, v2 = v2, v3 = v3, y = result1)\n",
    "df2 = DataFrame(v1 = v1, v2 = v2, v3 = v3, y = result2)\n",
    "CSV.write(\"./data/synthetic/synthetic_constructDimless_generated_wo_noise.csv\", df1)\n",
    "CSV.write(\"./data/synthetic/synthetic_freeConst_generated_wo_noise.csv\", df2)"
   ]
  },
  {
   "cell_type": "code",
   "execution_count": 25,
   "metadata": {},
   "outputs": [
    {
     "data": {
      "text/plain": [
       "\"./data/synthetic/synthetic_freeConst_generated_001noise.csv\""
      ]
     },
     "metadata": {},
     "output_type": "display_data"
    }
   ],
   "source": [
    "scale = 0.01\n",
    "result1_noise = result1 .+ scale * randn(length(result1)) .* result1\n",
    "result2_noise = result2 .+ scale * randn(length(result2)) .* result2\n",
    "\n",
    "df1 = DataFrame(v1 = v1, v2 = v2, v3 = v3, y = result1_noise)\n",
    "df2 = DataFrame(v1 = v1, v2 = v2, v3 = v3, y = result2_noise)\n",
    "CSV.write(\"./data/synthetic/synthetic_constructDimless_generated_001noise.csv\", df1)\n",
    "CSV.write(\"./data/synthetic/synthetic_freeConst_generated_001noise.csv\", df2)"
   ]
  },
  {
   "cell_type": "code",
   "execution_count": 29,
   "metadata": {},
   "outputs": [
    {
     "name": "stdout",
     "output_type": "stream",
     "text": [
      "[0.6187493659814317, 0.6126805006221971, 0.6076243536078588, 0.603599328462258, 0.6005326939153286, 0.5982699927959596, 0.5966152781296071, 0.5953934779895733, 0.5945061653679011, 0.5939449790636564,"
     ]
    },
    {
     "name": "stdout",
     "output_type": "stream",
     "text": [
      " 0.59375, 0.5939449790636564, 0.594506165367901, 0.5953934779895733, 0.5966152781296071, 0.5982699927959594, 0.6005326939153286, 0.6035993284622581, 0.6076243536078587, 0.612680500622197, 0.6187493659814319, 0.5879668764401439, 0.579192962449677, 0.5714406178630712, 0.5647599626915963, 0.5590814144382346, 0.5542314345783336, 0.5500105186160446, 0.5463214212263843, 0.5432801633676876, 0.5412090753194853, 0.5404663923182442, 0.5412090753194851, 0.5432801633676876, 0.5463214212263845, 0.5500105186160443, 0.5542314345783336, 0.5590814144382346, 0.5647599626915962, 0.5714406178630711, 0.579192962449677, 0.5879668764401436, 0.554342775915129, 0.5420340355824195, 0.5306363723098183, 0.5202175653444961, 0.5106674553953875, 0.5017155448006387, 0.4930847855989481, 0.48478774569904226, 0.47741946683437647, 0.472150168551357, 0.47021484375, 0.4721501685513571, 0.4774194668343764, 0.48478774569904215, 0.49308478559894786, 0.5017155448006387, 0.5106674553953875, 0.5202175653444961, 0.5306363723098181, 0.5420340355824195, 0.5543427759151288, 0.5181321951173644, 0.5013130139486274, 0.4851147270702647, 0.46959050166865174, 0.4544867234737383, 0.43921926435787517, 0.4231429842029663, 0.4062487387454571, 0.3900499036302402, 0.3778065393898624, 0.3731778425655977, 0.3778065393898625, 0.39004990363024, 0.40624873874545697, 0.4231429842029662, 0.4392192643578751, 0.45448672347373825, 0.4695905016686516, 0.4851147270702646, 0.5013130139486275, 0.5181321951173644, 0.47993548436367883, 0.45753024618990074, 0.43521725896384217, 0.4129968528485784, 0.39029583043227195, 0.3657289532332376, 0.33740684160097933, 0.3044481193999557, 0.26969106199749254, 0.24143643473581575, 0.2303240740740743, 0.24143643473581558, 0.26969106199749243, 0.3044481193999557, 0.3374068416009791, 0.36572895323323756, 0.3902958304322719, 0.41299685284857834, 0.43521725896384206, 0.4575302461899007, 0.47993548436367867, 0.4408323893727725, 0.4117655167007396, 0.38198364359762094, 0.35144568529678955, 0.31908068503906883, 0.2818321131074077, 0.23434267823046975, 0.1715088980194497, 0.09617448317930116, 0.028287991003591233, 3.3306690738754696e-16, 0.028287991003591022, 0.09617448317930088, 0.17150889801944955, 0.2343426782304694, 0.2818321131074074, 0.3190806850390687, 0.35144568529678955, 0.3819836435976208, 0.4117655167007395, 0.4408323893727723, 0.4025172671629459, 0.3658872928607091, 0.3274401270594738, 0.2872685722418121, 0.24393279405597562, 0.19170642107126748, 0.11709625944685596, 5.329070518200751e-16, 0.0, 0.11709625944685553, 0.1917064210712671, 0.2439327940559755, 0.287268572241812, 0.32744012705947345, 0.365887292860709, 0.40251726716294567, 0.36739257822154375, 0.3227505775736245, 0.27487260730256297, 0.2244032775804695, 0.17062872454767286, 0.10549084889834716, 3.996802888650564e-16, 0.10549084889834685, 0.17062872454767272, 0.22440327758046935, 0.2748726073025628, 0.3227505775736243, 0.36739257822154353, 0.3385257756122324, 0.28630621084409497, 0.22908666303751124, 0.16842581104899365, 0.10682053127743106, 0.039077545190836886, 0.039077545190836366, 0.10682053127743085, 0.16842581104899346, 0.2290866630375108, 0.28630621084409474, 0.3385257756122322, 0.3192887055543668, 0.2613611374407041, 0.1965895114571633, 0.12696810131457983, 0.059687048240759585, 0.005684332111148908, 0.005684332111148612, 0.059687048240759356, 0.1269681013145796, 0.196589511457163, 0.26136113744070355, 0.31928870555436645, 0.3125, 0.25240054869684503, 0.1845703125, 0.11078717201166177, 0.03935185185185186, 2.220446049250313e-16, 0.03935185185185164, 0.11078717201166155, 0.18457031249999978, 0.2524005486968447, 0.31249999999999967, 0.3192887055543667, 0.26136113744070394, 0.19658951145716322, 0.12696810131457972, 0.05968704824075943, 0.005684332111148836, 0.005684332111148495, 0.05968704824075905, 0.1269681013145795, 0.19658951145716302, 0.2613611374407036, 0.31928870555436634, 0.3385257756122322, 0.2863062108440949, 0.22908666303751102, 0.16842581104899346, 0.10682053127743087, 0.03907754519083666, 0.03907754519083621, 0.10682053127743049, 0.16842581104899326, 0.22908666303751077, 0.2863062108440947, 0.33852577561223185, 0.36739257822154353, 0.32275057757362435, 0.27487260730256274, 0.22440327758046918, 0.1706287245476726, 0.105490848898347, 0.0, 0.10549084889834641, 0.17062872454767253, 0.22440327758046907, 0.27487260730256263, 0.3227505775736241, 0.3673925782215434, 0.4025172671629457, 0.3658872928607088, 0.32744012705947334, 0.2872685722418119, 0.2439327940559753, 0.191706421071267, 0.11709625944685541, 0.11709625944685488, 0.19170642107126662, 0.24393279405597498, 0.2872685722418116, 0.3274401270594733, 0.36588729286070876, 0.40251726716294545, 0.4408323893727723, 0.4117655167007395, 0.3819836435976207, 0.35144568529678916, 0.3190806850390685, 0.28183211310740713, 0.23434267823046903, 0.171508898019449, 0.0961744831792999, 0.028287991003589707, 0.028287991003589388, 0.09617448317929964, 0.17150889801944852, 0.2343426782304687, 0.28183211310740686, 0.31908068503906833, 0.35144568529678905, 0.3819836435976205, 0.4117655167007393, 0.4408323893727721, 0.4799354843636787, 0.4575302461899007, 0.435217258963842, 0.41299685284857807, 0.39029583043227173, 0.3657289532332373, 0.337406841600979, 0.3044481193999554, 0.269691061997492, 0.24143643473581497, 0.23032407407407351, 0.24143643473581494, 0.2696910619974917, 0.3044481193999553, 0.33740684160097867, 0.36572895323323723, 0.3902958304322717, 0.4129968528485781, 0.4352172589638417, 0.4575302461899004, 0.47993548436367856, 0.5181321951173643, 0.5013130139486273, 0.48511472707026443, 0.4695905016686515, 0.45448672347373814, 0.43921926435787495, 0.42314298420296603, 0.40624873874545675, 0.39004990363023984, 0.3778065393898621, 0.3731778425655974, 0.37780653938986214, 0.39004990363023967, 0.4062487387454567, 0.4231429842029659, 0.43921926435787495, 0.4544867234737382, 0.46959050166865146, 0.48511472707026443, 0.5013130139486273, 0.5181321951173642, 0.5543427759151288, 0.5420340355824192, 0.530636372309818, 0.5202175653444959, 0.5106674553953872, 0.5017155448006385, 0.4930847855989477, 0.484787745699042, 0.47741946683437597, 0.4721501685513566, 0.47021484374999967, 0.47215016855135655, 0.4774194668343761, 0.484787745699042, 0.4930847855989476, 0.5017155448006385, 0.5106674553953872, 0.5202175653444959, 0.5306363723098179, 0.5420340355824192, 0.5543427759151288, 0.5879668764401436, 0.5791929624496768, 0.5714406178630709, 0.5647599626915962, 0.5590814144382343, 0.5542314345783331, 0.5500105186160442, 0.546321421226384, 0.5432801633676873, 0.5412090753194849, 0.5404663923182438, 0.5412090753194848, 0.5432801633676871, 0.5463214212263838, 0.5500105186160443, 0.5542314345783331, 0.5590814144382342, 0.564759962691596, 0.5714406178630709, 0.5791929624496768, 0.5879668764401436, 0.6187493659814315, 0.6126805006221967, 0.6076243536078586, 0.6035993284622578, 0.6005326939153283, 0.5982699927959594, 0.5966152781296068, 0.5953934779895732, 0.5945061653679009, 0.5939449790636563, 0.5937499999999998, 0.5939449790636562, 0.5945061653679009, 0.5953934779895732, 0.5966152781296069, 0.5982699927959594, 0.6005326939153283, 0.6035993284622578, 0.6076243536078585, 0.6126805006221968, 0.6187493659814317]\n",
      "[0.620622073769922, 0.6231604570375611, 0.5871977504330552, 0.6104505595284702, 0.6076278646850567, 0.5811011142274295, 0.5975166818346896, 0.5950850410926085, 0.5936455820372707, 0.5937557673124548, 0.5936703100151765, 0.5802242360320254, 0.6039381635906351, 0.5851220520758437, 0.5960659520570878, 0.5971880121876443, 0.6049285676508233, 0.6068183078352517, 0.6049008211071443, 0.5802829651136545, 0.6326300489069943, 0.5820601496191058, 0.5659761004527163, 0.5559687388707419, 0.5730233079341145, 0.5579499185445954, 0.5507541785720417, 0.5537921536313435, 0.5461263566688204, 0.54800379337631, 0.525771970046522, 0.5433000277270343, 0.5174680340857842, 0.5281770365565746, 0.539566196368466, 0.5348984043931164, 0.5479661265421758, 0.567551345100558, 0.5453506441856425, 0.5635902530997116, 0.5626712095442807, 0.6005244733078833, 0.5565938291900252, 0.5523744332411753, 0.5211160017289912, 0.517915374025622, 0.5092978875834067, 0.5108540368403812, 0.4903548386318985, 0.4733169258833154, 0.47406597925199406, 0.4675214989796559, 0.4829843074099891, 0.4572320941043592, 0.4946374294030234, 0.4867393764043804, 0.49268744835652684, 0.49402714001569537, 0.5307402375561152, 0.5311532634561086, 0.5339928324958876, 0.548273316015914, 0.5524638057789882, 0.5237640025012047, 0.4971442516109359, 0.49852010576358813, 0.4550180764922844, 0.4424729360706067, 0.44105075291666346, 0.4330630797099463, 0.4130025675700628, 0.3792166704174787, 0.3850052866039023, 0.3862382556429099, 0.36965371296128124, 0.3950409177338292, 0.4085750935778298, 0.42591644509877924, 0.42093151350984986"
     ]
    },
    {
     "name": "stdout",
     "output_type": "stream",
     "text": [
      ", 0.4509748712981043, 0.4721279893523801, 0.48404318594339824, 0.49468370377584614, 0.5120584142331076, 0.46667864615652205, 0.44423130101464864, 0.43297393569236453, 0.4138077502366303, 0.3857875490488579, 0.3582154057801275, 0.3414432023570368, 0.29778569790583015, 0.2711230132846515, 0.24723074015374003, 0.23437878583771857, 0.2392042264593782, 0.27420918552954127, 0.3076873405215047, 0.3418676114425421, 0.3612321965939359, 0.3937193074642221, 0.41112966606457585, 0.4519870900264896, 0.4662301073722759, 0.47622380655361324, 0.43581992357972854, 0.4250504647264728, 0.39041644805413156, 0.3539008096644368, 0.3260916274904214, 0.2764768349975572, 0.24803920742455682, 0.17165320238223927, 0.09281164166433718, 0.02859963379843972, 3.412207227748653e-16, 0.027176591347382203, 0.09685359208395382, 0.17287349216677753, 0.2329165921316248, 0.27923519960884685, 0.31936687396935026, 0.3440421890202803, 0.38892366608320766, 0.4061167119842678, 0.441908854558429, 0.40778907508691326, 0.36631136179921736, 0.31933247899448103, 0.29332646373624394, 0.25283086641539615, 0.19153377998939064, 0.11431733795354292, 5.405069125327154e-16, 0.0, 0.1175268343125618, 0.19331070969966194, 0.23958692289337827, 0.2766978889179649, 0.32250086725728144, 0.35983627844278854, 0.3980557283767062, 0.3753847289766152, 0.3187768362985885, 0.2645740084926804, 0.2225412287337293, 0.1686102765448682, 0.10565880969602037, 4.09973312643612e-16, 0.10500764766113142, 0.17358200685670547, 0.23006145107680565, 0.2843452240568026, 0.3207902394824612, 0.36256933694398236, 0.34717422156966415, 0.27962348482443866, 0.23113069891336166, 0.17094261682342962, 0.10742262590811115, 0.03884806415845091, 0.03968661381206318, 0.11135586831365411, 0.1748384983783887, 0.2306820525696322, 0.28494644943896646, 0.33280073367874474, 0.3128190247846175, 0.25411293974491805, 0.1999223016029749, 0.12293432694105863, 0.060283677682038225, 0.005866901557624092, 0.005811387299848489, 0.059847438524775344, 0.12683883583349334, 0.19393036112588846, 0.2604554775674206, 0.31335358758297166, 0.30974395143254085, 0.24370484511081258, 0.18892035509401578, 0.11160794763290474, 0.039459805236212626, 2.20283004345603e-16, 0.03864127544722671, 0.10966416495419112, 0.18576798323266847, 0.24321955764466086, 0.32149648888337484, 0.3173604413737553, 0.2624743172904259, 0.19764955386276198, 0.12675368172867021, 0.059858141557635886, 0.0058470089160713315, 0.005751323145536186, 0.06191540030181882, 0.12705481392936566, 0.1950805192052102, 0.26353499242867257, 0.3183220259491084, 0.34518805527555824, 0.2859993315139924, 0.22652506335875958, 0.17280310059323645, 0.10317623992543155, 0.038751476571645176, 0.03937427171610178, 0.10502265677078365, 0.1685746966376815, 0.22844776923887997, 0.2910680968161829, 0.3399992207413686, 0.37723074032268566, 0.30627792783853347, 0.26935199656655306, 0.22148940342747214, 0.1698636619892782, 0.10502909512301341, 0.0, 0.10611352657497046, 0.16779206643623046, 0.22364622840498705, 0.2711771064966767, 0.3222244450630666, 0.36679494906706794, 0.4044694462179416, 0.35731092471136294, 0.33604868240160995, 0.28325465137927164, 0.23668508426335907, 0.19741986492551017, 0.11683728262604233, 0.11458452546422807, 0.18663519181091104, 0.2448319272190388, 0.2887259398348743, 0.3334839463301044, 0.3603790480188861, 0.40227067350588347, 0.45051255428897735, 0.4176873331312151, 0.37430300579166403, 0.3451201697151848, 0.3275666812594782, 0.2883986391478975, 0.23554515341150553, 0.1770769146297751, 0.09793681285261509, 0.02817076126262421, 0.02775479191560806, 0.09374076632753538, 0.1710613353122404, 0.23299816731714124, 0.2743651918877307, 0.31944733137543196, 0.3605682438952298, 0.3899135080009551, 0.4206077648345374, 0.4515612856120398, 0.4707092751687887, 0.45581929165849844, 0.4361537615678979, 0.4039769440987229, 0.3981869021083657, 0.3620421296935113, 0.3285869756393028, 0.31082468053839296, 0.27790246474437225, 0.23337705010279167, 0.22917679243924238, 0.2345403327855202, 0.27614051794062644, 0.30811789993887473, 0.3362567370804656, 0.3556593995317141, 0.39815887971011177, 0.39857020003700744, 0.4400782160868046, 0.46524565878836244, 0.4696443792549165, 0.5299681831699341, 0.48372985210038905, 0.4829024308532847, 0.46031974340426285, 0.443761059900315, 0.4319163939776818, 0.4357158844896285, 0.4150940571291201, 0.39929377368461333, 0.3809799838279482, 0.37354609732101596, 0.38981754714006533, 0.39512800793364206, 0.40456699907346194, 0.4058989510484331, 0.4340474337684745, 0.45411707644910054, 0.4738059343529885, 0.4771219208076761, 0.5024882085119788, 0.5207805274988729, 0.5561673654228568, 0.5308098383040045, 0.5223922326349506, 0.5262713188380348, 0.5015181534452031, 0.4812136881236559, 0.4942510667554842, 0.47203799233892724, 0.48774895072672236, 0.4799940063336495, 0.4761546142835765, 0.4607393361345582, 0.4820679395694348, 0.48304295974799355, 0.49101370468552813, 0.5065612244726722, 0.5056804948621756, 0.5147693480820584, 0.5341831153010356, 0.5418533488227125, 0.580938565486057, 0.5669759352972723, 0.5719467804024188, 0.5774029659340808, 0.5604129578973822, 0.5774358679031568, 0.543566896580361, 0.5492823300695165, 0.5605256031862034, 0.5532464892531684, 0.5511596445677596, 0.5519206491011152, 0.5294046440445731, 0.5444735420433882, 0.5435870877960367, 0.5452325995530797, 0.5365432841553095, 0.5376974108085882, 0.557316252060996, 0.5515683505171051, 0.5831581646493486, 0.6007314507834088, 0.635686116673273, 0.6011699696410385, 0.6183743921126685, 0.6135479395135756, 0.6026139229927902, 0.6068649492373734, 0.6069390194250308, 0.5950372707147943, 0.6085010896537886, 0.5902013864521024, 0.5989205942394735, 0.6058137507315124, 0.5875488325540603, 0.5817060486808803, 0.6090290658348445, 0.5990247044251259, 0.620236538740245, 0.6373459692595596, 0.6096450760978109, 0.6023976771029443, 0.6269814135187181]\n"
     ]
    },
    {
     "data": {
      "text/plain": [
       "\"./data/singleParticle/train_instance1_generated_002noise.csv\""
      ]
     },
     "metadata": {},
     "output_type": "display_data"
    }
   ],
   "source": [
    "using DataFrames    \n",
    "using CSV\n",
    "df = CSV.read(\"./data/singleParticle/train_instance1.csv\", DataFrame)\n",
    "#println(df)\n",
    "CSV.write(\"./data/singleParticle/train_instance1_generated_wo_noise.csv\", df)\n",
    "\n",
    "result1 = df[:, end]\n",
    "println(result1)\n",
    "scale = 0.02\n",
    "result1_noise = result1 .+ scale * randn(length(result1)) .* result1\n",
    "println(result1_noise)\n",
    "df[:, end] = result1_noise\n",
    "CSV.write(\"./data/singleParticle/train_instance1_generated_002noise.csv\", df)\n"
   ]
  }
 ],
 "metadata": {
  "kernelspec": {
   "display_name": "Julia 1.9.3",
   "language": "julia",
   "name": "julia-1.9"
  },
  "language_info": {
   "file_extension": ".jl",
   "mimetype": "application/julia",
   "name": "julia",
   "version": "1.9.3"
  }
 },
 "nbformat": 4,
 "nbformat_minor": 2
}
